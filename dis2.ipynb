{
 "cells": [
  {
   "cell_type": "code",
   "execution_count": 1,
   "metadata": {},
   "outputs": [
    {
     "name": "stderr",
     "output_type": "stream",
     "text": [
      "Using TensorFlow backend.\n"
     ]
    }
   ],
   "source": [
    "from tensorflow.keras.preprocessing.image import ImageDataGenerator\n",
    "from keras import backend as K\n",
    "import tensorflow as tf\n",
    "import os\n",
    "from keras import objectives\n",
    "import numpy as np \n",
    "import matplotlib.pyplot as plt\n",
    "from tensorflow.keras.optimizers import Adam\n",
    "from tensorflow.keras import Input,Model,layers\n",
    "from tensorflow.keras.callbacks import ModelCheckpoint\n",
    "from tensorflow.keras.layers import *\n"
   ]
  },
  {
   "cell_type": "code",
   "execution_count": 2,
   "metadata": {},
   "outputs": [],
   "source": [
    "# 将图片进行二值化处理\n",
    "\n",
    "def adjustData(img,mask,gen):\n",
    "    img = img / 255\n",
    "    mask = mask /255\n",
    "    mask[mask > 0.5] = 1\n",
    "    mask[mask <= 0.5] = 0\n",
    "    gen = gen /255\n",
    "    gen[gen > 0.5] = 1\n",
    "    gen[gen <= 0.5] = 0\n",
    "    return (img,mask,gen)\n",
    "def trainGenerator(batch_size,train_path,aug_dict,\n",
    "                   image_save_prefix  = \"image\",mask_save_prefix  = \"mask\",\n",
    "                   save_to_dir = None,target_size = (256,256),seed = 1):\n",
    "    '''\n",
    "    可以不断地同时产生image和mask\n",
    "    使用相同的seed确保到image_datagen和mask_datagen对图片的扩充是对应的\n",
    "    '''\n",
    "    # 两个生成器，aug_dict指定了如何扩充\n",
    "    image_datagen = ImageDataGenerator(**aug_dict)\n",
    "    mask_datagen = ImageDataGenerator(**aug_dict)\n",
    "    gen_datagen = ImageDataGenerator(**aug_dict)\n",
    "    \n",
    "    image_generator = image_datagen.flow_from_directory(\n",
    "        train_path,\n",
    "        classes = [\"image\"],\n",
    "        class_mode = None,\n",
    "        color_mode = \"grayscale\",\n",
    "        target_size = target_size,\n",
    "        batch_size = batch_size,\n",
    "        save_to_dir = save_to_dir,\n",
    "        save_prefix  = image_save_prefix,\n",
    "        seed = seed)\n",
    "    mask_generator = mask_datagen.flow_from_directory(\n",
    "         train_path,\n",
    "        classes = [\"label\"],\n",
    "        class_mode = None,\n",
    "        color_mode = \"grayscale\",\n",
    "        target_size = target_size,\n",
    "        batch_size = batch_size,\n",
    "        save_to_dir = save_to_dir,\n",
    "        save_prefix  = mask_save_prefix,\n",
    "        seed = seed)\n",
    "    \n",
    "    gen_generator = gen_datagen.flow_from_directory(\n",
    "        train_path,\n",
    "        classes = [\"predict\"],\n",
    "        class_mode = None,\n",
    "        color_mode = \"grayscale\",\n",
    "        target_size = target_size,\n",
    "        batch_size = batch_size,\n",
    "        save_to_dir = save_to_dir,\n",
    "        save_prefix  = image_save_prefix,\n",
    "        seed = seed)\n",
    "    \n",
    "    train_generator = zip(image_generator, mask_generator,gen_generator)\n",
    "    # img.shape == (batch_size,target_szie[0],arget_szie[1],1)\n",
    "    for (img,mask,gen) in train_generator:\n",
    "        img,mask,gen = adjustData(img,mask,gen)\n",
    "        yield (img,mask,gen)\n"
   ]
  },
  {
   "cell_type": "code",
   "execution_count": 3,
   "metadata": {},
   "outputs": [],
   "source": [
    "data_gen_args = dict(rotation_range=0.2,\n",
    "                    width_shift_range=0.05,\n",
    "                    height_shift_range=0.05,\n",
    "                    shear_range=0.05,\n",
    "                    zoom_range=0.05,\n",
    "                    horizontal_flip=True,\n",
    "                    fill_mode='nearest')\n",
    "myGene = trainGenerator(1,'data/membrane/train/',data_gen_args,save_to_dir = None)\n"
   ]
  },
  {
   "cell_type": "code",
   "execution_count": 4,
   "metadata": {},
   "outputs": [],
   "source": [
    "loss_object = tf.keras.losses.BinaryCrossentropy()\n",
    "discriminator_optimizer = tf.keras.optimizers.Adam(2e-4)"
   ]
  },
  {
   "cell_type": "code",
   "execution_count": 5,
   "metadata": {},
   "outputs": [],
   "source": [
    "def make_discriminator_model():\n",
    "    k=3 # kernel size\n",
    "    s=2 # stride\n",
    "    n_filters = 64\n",
    "    padding='same'#'valid\n",
    "    name =\"d\"\n",
    "    inp = tf.keras.layers.Input(shape=[256, 256, 1], name='input_image')\n",
    "    tar = tf.keras.layers.Input(shape=[256, 256, 1], name='target_image')\n",
    "    inp1 = Conv2D(64, 3, padding = 'same', kernel_initializer = 'he_normal')(inp)\n",
    "    tar1 = Conv2D(64, 3, padding = 'same', kernel_initializer = 'he_normal')(tar)\n",
    "    \n",
    "    \n",
    "    x = tf.keras.layers.concatenate([inp1, tar1]) \n",
    "    conv1 = Conv2D(n_filters, kernel_size=(k, k), strides=(s,s), padding=padding)(x)\n",
    "    conv1 = BatchNormalization(scale=False, axis=3)(conv1)\n",
    "    conv1 = Activation('relu')(conv1)    \n",
    "    conv1 = Conv2D(n_filters, kernel_size=(k, k), padding=padding)(conv1) \n",
    "    conv1 = BatchNormalization(scale=False, axis=3)(conv1)\n",
    "    conv1 = Activation('relu')(conv1)    \n",
    "    pool1 = MaxPooling2D(pool_size=(s, s))(conv1)\n",
    "    \n",
    "    conv2 = Conv2D(2*n_filters, kernel_size=(k, k), strides=(s,s), padding=padding)(pool1) \n",
    "    conv2 = BatchNormalization(scale=False, axis=3)(conv2)\n",
    "    conv2 = Activation('relu')(conv2)    \n",
    "    conv2 = Conv2D(2*n_filters, kernel_size=(k, k), padding=padding)(conv2) \n",
    "    conv2 = BatchNormalization(scale=False, axis=3)(conv2)\n",
    "    conv2 = Activation('relu')(conv2)    \n",
    "    pool2 = MaxPooling2D(pool_size=(s, s))(conv2)\n",
    "    \n",
    "    conv3 = Conv2D(4*n_filters, kernel_size=(k, k), padding=padding)(pool2) \n",
    "    conv3 = BatchNormalization(scale=False, axis=3)(conv3)\n",
    "    conv3 = Activation('relu')(conv3)    \n",
    "    conv3 = Conv2D(4*n_filters, kernel_size=(k, k), padding=padding)(conv3) \n",
    "    conv3 = BatchNormalization(scale=False, axis=3)(conv3)\n",
    "    conv3 = Activation('relu')(conv3)    \n",
    "    pool3 = MaxPooling2D(pool_size=(s, s))(conv3)\n",
    "    \n",
    "    conv4 = Conv2D(8*n_filters, kernel_size=(k, k), padding=padding)(pool3) \n",
    "    conv4 = BatchNormalization(scale=False, axis=3)(conv4)\n",
    "    conv4 = Activation('relu')(conv4)    \n",
    "    conv4 = Conv2D(8*n_filters, kernel_size=(k, k), padding=padding)(conv4) \n",
    "    conv4 = BatchNormalization(scale=False, axis=3)(conv4)\n",
    "    conv4 = Activation('relu')(conv4)    \n",
    "    pool4 = MaxPooling2D(pool_size=(s, s))(conv4)\n",
    "    \n",
    "    conv5 = Conv2D(16*n_filters, kernel_size=(k, k), padding=padding)(pool4) \n",
    "    conv5 = BatchNormalization(scale=False, axis=3)(conv5)\n",
    "    conv5 = Activation('relu')(conv5)    \n",
    "    conv5 = Conv2D(16*n_filters, kernel_size=(k, k), padding=padding)(conv5) \n",
    "    conv5 = BatchNormalization(scale=False, axis=3)(conv5)\n",
    "    conv5 = Activation('relu')(conv5)\n",
    "    \n",
    "    gap=GlobalAveragePooling2D()(conv5)\n",
    "    outputs=Dense(1, activation='sigmoid')(gap)\n",
    "    \n",
    "    d = Model([inp,tar], outputs, name=name)\n",
    "\n",
    "\n",
    "    d.compile(optimizer=Adam(lr=0.0001), loss=tf.keras.losses.BinaryCrossentropy(), metrics=['accuracy'])\n",
    "    return d"
   ]
  },
  {
   "cell_type": "code",
   "execution_count": 6,
   "metadata": {},
   "outputs": [],
   "source": [
    "@tf.function\n",
    "def train_step(img, mask, predict,discriminator):\n",
    "    with tf.GradientTape() as tape:\n",
    "        disc_real_output = discriminator([img, mask], training=True)\n",
    "        disc_generated_output = discriminator([img, predict], training=True)\n",
    "        real_loss = loss_object(tf.ones_like(disc_real_output), disc_real_output)\n",
    "        generated_loss = loss_object(tf.zeros_like(disc_generated_output), disc_generated_output)\n",
    "        total_loss = real_loss + generated_loss\n",
    "    discriminator_gradients = tape.gradient(total_loss,discriminator.trainable_variables)\n",
    "    discriminator_optimizer.apply_gradients(zip(discriminator_gradients,\n",
    "                                              discriminator.trainable_variables))"
   ]
  },
  {
   "cell_type": "code",
   "execution_count": 7,
   "metadata": {},
   "outputs": [],
   "source": [
    "def fit(epochs, myGene,steps,discriminator):\n",
    "  for epoch in range(epochs):\n",
    "    step = 0\n",
    "    for img_mask_predict_tuple in myGene:\n",
    "        step += 1\n",
    "        img = img_mask_predict_tuple[0]\n",
    "        mask = img_mask_predict_tuple[1]\n",
    "        predict = img_mask_predict_tuple[2]\n",
    "        train_step(img, mask, predict, discriminator)\n",
    "        \n",
    "        if(step > steps):\n",
    "            print(\"训练完成\")\n",
    "            break\n",
    "        if(step % 20 == 0):\n",
    "            print(\"已经完成：\",step)"
   ]
  },
  {
   "cell_type": "code",
   "execution_count": 8,
   "metadata": {},
   "outputs": [
    {
     "name": "stdout",
     "output_type": "stream",
     "text": [
      "Found 30 images belonging to 1 classes.\n",
      "Found 30 images belonging to 1 classes.\n",
      "Found 30 images belonging to 1 classes.\n"
     ]
    },
    {
     "name": "stderr",
     "output_type": "stream",
     "text": [
      "WARNING: Logging before flag parsing goes to stderr.\n",
      "W1204 09:49:15.299447 139894255765312 deprecation.py:323] From /home/hadoop/anaconda3/lib/python3.7/site-packages/tensorflow/python/ops/nn_impl.py:182: add_dispatch_support.<locals>.wrapper (from tensorflow.python.ops.array_ops) is deprecated and will be removed in a future version.\n",
      "Instructions for updating:\n",
      "Use tf.where in 2.0, which has the same broadcast rule as np.where\n"
     ]
    },
    {
     "name": "stdout",
     "output_type": "stream",
     "text": [
      "已经完成： 20\n",
      "已经完成： 40\n",
      "已经完成： 60\n",
      "已经完成： 80\n",
      "已经完成： 100\n",
      "已经完成： 120\n",
      "已经完成： 140\n",
      "已经完成： 160\n",
      "已经完成： 180\n",
      "已经完成： 200\n",
      "已经完成： 220\n",
      "已经完成： 240\n",
      "已经完成： 260\n",
      "已经完成： 280\n",
      "已经完成： 300\n",
      "已经完成： 320\n",
      "已经完成： 340\n",
      "已经完成： 360\n",
      "已经完成： 380\n",
      "已经完成： 400\n",
      "已经完成： 420\n",
      "已经完成： 440\n",
      "已经完成： 460\n",
      "已经完成： 480\n",
      "已经完成： 500\n",
      "已经完成： 520\n",
      "已经完成： 540\n",
      "已经完成： 560\n",
      "已经完成： 580\n",
      "已经完成： 600\n",
      "已经完成： 620\n",
      "已经完成： 640\n",
      "已经完成： 660\n",
      "已经完成： 680\n",
      "已经完成： 700\n",
      "已经完成： 720\n",
      "已经完成： 740\n",
      "已经完成： 760\n",
      "已经完成： 780\n",
      "已经完成： 800\n",
      "已经完成： 820\n",
      "已经完成： 840\n",
      "已经完成： 860\n",
      "已经完成： 880\n",
      "已经完成： 900\n",
      "已经完成： 920\n",
      "已经完成： 940\n",
      "已经完成： 960\n",
      "已经完成： 980\n",
      "已经完成： 1000\n",
      "训练完成\n"
     ]
    }
   ],
   "source": [
    "discriminator = make_discriminator_model()\n",
    "fit(1, myGene , 1000 ,discriminator)"
   ]
  },
  {
   "cell_type": "code",
   "execution_count": 14,
   "metadata": {},
   "outputs": [
    {
     "name": "stderr",
     "output_type": "stream",
     "text": [
      "/home/hadoop/anaconda3/lib/python3.7/site-packages/ipykernel_launcher.py:32: MatplotlibDeprecationWarning: Adding an axes using the same arguments as a previous axes currently reuses the earlier instance.  In a future version, a new instance will always be created and returned.  Meanwhile, this warning can be suppressed, and the future behavior ensured, by passing a unique label to each axes instance.\n",
      "/home/hadoop/anaconda3/lib/python3.7/site-packages/ipykernel_launcher.py:34: MatplotlibDeprecationWarning: Adding an axes using the same arguments as a previous axes currently reuses the earlier instance.  In a future version, a new instance will always be created and returned.  Meanwhile, this warning can be suppressed, and the future behavior ensured, by passing a unique label to each axes instance.\n",
      "/home/hadoop/anaconda3/lib/python3.7/site-packages/ipykernel_launcher.py:36: MatplotlibDeprecationWarning: Adding an axes using the same arguments as a previous axes currently reuses the earlier instance.  In a future version, a new instance will always be created and returned.  Meanwhile, this warning can be suppressed, and the future behavior ensured, by passing a unique label to each axes instance.\n"
     ]
    },
    {
     "data": {
      "image/png": "[encoded data removed]",
      "text/plain": [
       "<Figure size 432x288 with 3 Axes>"
      ]
     },
     "metadata": {
      "needs_background": "light"
     },
     "output_type": "display_data"
    }
   ],
   "source": [
    "g_lst = []\n",
    "r_lst = []\n",
    "n_lst = []\n",
    "for i in range(30):\n",
    "    picture = str(i)+\".png\"\n",
    "    picture2 =str(i)+\"_predict.png\"\n",
    "    img_test_raw = tf.io.read_file(os.path.join(\"data/membrane/train/image/\",picture))\n",
    "    img_test = tf.image.decode_png(img_test_raw)\n",
    "    img_test = tf.image.resize(img_test, (256,256))\n",
    "    img_test = img_test /  255\n",
    "    img_test = tf.reshape(img_test,(1,256,256,1))\n",
    "\n",
    "\n",
    "    mask_test_raw = tf.io.read_file(os.path.join(\"data/membrane/train/label/\",picture))\n",
    "    mask_test = tf.image.decode_png(mask_test_raw)\n",
    "    mask_test = tf.image.resize(mask_test, (256,256))\n",
    "    mask_test = mask_test /  255\n",
    "    mask_test = tf.reshape(mask_test,(1,256,256,1))\n",
    "    \n",
    "    \n",
    "    gen_test_raw = tf.io.read_file(os.path.join(\"data/membrane/train/predict/\",picture2))\n",
    "    gen_test = tf.image.decode_png(gen_test_raw)\n",
    "    gen_test = tf.image.resize(gen_test, (256,256))\n",
    "    gen_test = gen_test /  255\n",
    "    gen_test = tf.reshape(gen_test,(1,256,256,1))\n",
    "    \n",
    "    \n",
    "    noise = tf.random.uniform([1,256,256,1])\n",
    "    g_lst.append(discriminator.predict([img_test,mask_test]).max())\n",
    "    r_lst.append(discriminator.predict([img_test,gen_test]).max())\n",
    "    n_lst.append(discriminator.predict([img_test,noise]).max())\n",
    "    plt.subplot(1,3,1)\n",
    "    plt.imshow(img_test[0,:,:,0],cmap=\"gray\")\n",
    "    plt.subplot(1,3,2)\n",
    "    plt.imshow(mask_test[0,:,:,0],cmap=\"gray\")\n",
    "    plt.subplot(1,3,3)\n",
    "    plt.imshow(gen_test[0,:,:,0],cmap=\"gray\")\n",
    "    \n",
    "\n",
    "    "
   ]
  },
  {
   "cell_type": "code",
   "execution_count": 15,
   "metadata": {},
   "outputs": [
    {
     "data": {
      "text/plain": [
       "0.63981235"
      ]
     },
     "execution_count": 15,
     "metadata": {},
     "output_type": "execute_result"
    }
   ],
   "source": [
    "np.average(g_lst)"
   ]
  },
  {
   "cell_type": "code",
   "execution_count": 16,
   "metadata": {},
   "outputs": [
    {
     "data": {
      "text/plain": [
       "0.6355507"
      ]
     },
     "execution_count": 16,
     "metadata": {},
     "output_type": "execute_result"
    }
   ],
   "source": [
    "np.average(r_lst)"
   ]
  },
  {
   "cell_type": "code",
   "execution_count": 17,
   "metadata": {},
   "outputs": [
    {
     "data": {
      "text/plain": [
       "0.28244168"
      ]
     },
     "execution_count": 17,
     "metadata": {},
     "output_type": "execute_result"
    }
   ],
   "source": [
    "np.average(n_lst)"
   ]
  },
  {
   "cell_type": "code",
   "execution_count": null,
   "metadata": {},
   "outputs": [],
   "source": []
  },
  {
   "cell_type": "code",
   "execution_count": null,
   "metadata": {},
   "outputs": [],
   "source": []
  },
  {
   "cell_type": "code",
   "execution_count": null,
   "metadata": {},
   "outputs": [],
   "source": []
  },
  {
   "cell_type": "code",
   "execution_count": null,
   "metadata": {},
   "outputs": [],
   "source": []
  }
 ],
 "metadata": {
  "kernelspec": {
   "display_name": "Python 3",
   "language": "python",
   "name": "python3"
  },
  "language_info": {
   "codemirror_mode": {
    "name": "ipython",
    "version": 3
   },
   "file_extension": ".py",
   "mimetype": "text/x-python",
   "name": "python",
   "nbconvert_exporter": "python",
   "pygments_lexer": "ipython3",
   "version": "3.7.3"
  }
 },
 "nbformat": 4,
 "nbformat_minor": 2
}
