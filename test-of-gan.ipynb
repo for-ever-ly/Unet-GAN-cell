{
 "cells": [
  {
   "cell_type": "code",
   "execution_count": 1,
   "metadata": {},
   "outputs": [],
   "source": [
    "import tensorflow as tf \n",
    "import os\n",
    "import matplotlib.pyplot as plt"
   ]
  },
  {
   "cell_type": "code",
   "execution_count": 2,
   "metadata": {},
   "outputs": [
    {
     "name": "stderr",
     "output_type": "stream",
     "text": [
      "WARNING: Logging before flag parsing goes to stderr.\n",
      "W1205 12:35:26.591403 139827738801984 hdf5_format.py:171] No training configuration found in save file: the model was *not* compiled. Compile it manually.\n"
     ]
    }
   ],
   "source": [
    "gen = tf.keras.models.load_model(\"Unet-gen-of-GAN.h5\")"
   ]
  },
  {
   "cell_type": "code",
   "execution_count": 20,
   "metadata": {},
   "outputs": [],
   "source": [
    "def testGenerator(test_path,num_image = 30,target_size = (256,256),flag_multi_class = False,as_gray = True):\n",
    "    for i in range(num_image):\n",
    "        mask_raw = tf.io.read_file(os.path.join(test_path,\"%d.png\"%i))\n",
    "        mask = tf.image.decode_png(mask_raw)\n",
    "        mask = tf.image.resize(mask, (256,256))\n",
    "        mask = mask / 255\n",
    "        mask = tf.reshape(mask,(1,256,256,1))\n",
    "        yield mask"
   ]
  },
  {
   "cell_type": "code",
   "execution_count": 21,
   "metadata": {},
   "outputs": [
    {
     "name": "stdout",
     "output_type": "stream",
     "text": [
      "30/30 [==============================] - 2s 82ms/step\n"
     ]
    }
   ],
   "source": [
    "testGene = testGenerator(\"data/membrane/test/\")\n",
    "results = gen.predict_generator(testGene,30,verbose=1)\n"
   ]
  },
  {
   "cell_type": "code",
   "execution_count": 31,
   "metadata": {},
   "outputs": [],
   "source": [
    "def saveResult(save_path,results):\n",
    "    for i,item in enumerate(results):\n",
    "       \n",
    "        plt.imsave(os.path.join(save_path,\"%d_predict-of-gan.png\"%i),item[:,:,0],cmap=\"gray\")\n"
   ]
  },
  {
   "cell_type": "code",
   "execution_count": 32,
   "metadata": {},
   "outputs": [],
   "source": [
    "saveResult(\"data/membrane/test/\",results)"
   ]
  },
  {
   "cell_type": "code",
   "execution_count": null,
   "metadata": {},
   "outputs": [],
   "source": []
  }
 ],
 "metadata": {
  "kernelspec": {
   "display_name": "Python 3",
   "language": "python",
   "name": "python3"
  },
  "language_info": {
   "codemirror_mode": {
    "name": "ipython",
    "version": 3
   },
   "file_extension": ".py",
   "mimetype": "text/x-python",
   "name": "python",
   "nbconvert_exporter": "python",
   "pygments_lexer": "ipython3",
   "version": "3.7.3"
  }
 },
 "nbformat": 4,
 "nbformat_minor": 2
}
